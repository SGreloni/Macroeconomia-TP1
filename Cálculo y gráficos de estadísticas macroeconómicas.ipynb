{
 "cells": [
  {
   "cell_type": "code",
   "execution_count": 1,
   "id": "5370d840",
   "metadata": {},
   "outputs": [],
   "source": [
    "import pandas as pd\n",
    "import seaborn as sns\n",
    "import matplotlib.pyplot as plt"
   ]
  },
  {
   "cell_type": "markdown",
   "id": "4a712699",
   "metadata": {},
   "source": [
    "### Lectura del archivo excel:\n",
    "\n",
    "    1. Datos: datos con el PBI (a precios constantes y corrientes), valor de tipo de cambio del dólar, y población por año.\n",
    "    2. Reservas Internacionales: Datos crudos del valor en millones de dólares de las reservas internacionales por día habil entre 2004 y 2020\n",
    "    3. Formación Bruta de Capital Fijo: Datos con la FBKF a precios corrientes y constantes con base en 2004"
   ]
  },
  {
   "cell_type": "code",
   "execution_count": 2,
   "id": "42e11ff4",
   "metadata": {},
   "outputs": [],
   "source": [
    "estadisticas = pd.ExcelFile('datos.xlsx', engine = 'openpyxl')"
   ]
  },
  {
   "cell_type": "code",
   "execution_count": 3,
   "id": "96452e47",
   "metadata": {},
   "outputs": [],
   "source": [
    "datos = pd.read_excel(estadisticas, 'Datos')\n",
    "reservas = pd.read_excel(estadisticas, 'Reservas Internacionales')\n",
    "fbkf = pd.read_excel(estadisticas, 'Formación Bruta de Capital Fijo')"
   ]
  },
  {
   "cell_type": "markdown",
   "id": "3ebbc9c4",
   "metadata": {},
   "source": [
    "### Cálculo del promedio anual de las Reservas Internacionales"
   ]
  },
  {
   "cell_type": "code",
   "execution_count": 4,
   "id": "79923db2",
   "metadata": {},
   "outputs": [],
   "source": [
    "reservas[\"Fecha\"] = pd.to_datetime(reservas[\"Fecha\"])"
   ]
  },
  {
   "cell_type": "code",
   "execution_count": 5,
   "id": "7cce02fb",
   "metadata": {},
   "outputs": [],
   "source": [
    "reservas_por_año = reservas.groupby(reservas[\"Fecha\"].dt.year).mean()"
   ]
  },
  {
   "cell_type": "markdown",
   "id": "0c3b0f00",
   "metadata": {},
   "source": [
    "#### Limpieza de los datos"
   ]
  },
  {
   "cell_type": "code",
   "execution_count": 6,
   "id": "2b99d5dd",
   "metadata": {},
   "outputs": [],
   "source": [
    "datos_t = datos.transpose()\n",
    "datos_t.rename(columns=datos_t.iloc[0], inplace = True)\n",
    "datos_t.drop(datos_t.index[0], inplace = True)"
   ]
  },
  {
   "cell_type": "code",
   "execution_count": 7,
   "id": "5f6fd1d9",
   "metadata": {},
   "outputs": [],
   "source": [
    "datos_t[\"Reservas Internacionales en millones de dólares\"] = reservas_por_año"
   ]
  },
  {
   "cell_type": "code",
   "execution_count": 8,
   "id": "516e11fc",
   "metadata": {
    "scrolled": true
   },
   "outputs": [
    {
     "data": {
      "text/html": [
       "<div>\n",
       "<style scoped>\n",
       "    .dataframe tbody tr th:only-of-type {\n",
       "        vertical-align: middle;\n",
       "    }\n",
       "\n",
       "    .dataframe tbody tr th {\n",
       "        vertical-align: top;\n",
       "    }\n",
       "\n",
       "    .dataframe thead th {\n",
       "        text-align: right;\n",
       "    }\n",
       "</style>\n",
       "<table border=\"1\" class=\"dataframe\">\n",
       "  <thead>\n",
       "    <tr style=\"text-align: right;\">\n",
       "      <th></th>\n",
       "      <th>Producto Interno Bruto en millones de pesos a precios de 2004</th>\n",
       "      <th>Producto Interno Bruto en millones de pesos a precios corrientes</th>\n",
       "      <th>Población</th>\n",
       "      <th>Tipo de cambio</th>\n",
       "      <th>Reservas Internacionales en millones de dólares</th>\n",
       "    </tr>\n",
       "  </thead>\n",
       "  <tbody>\n",
       "    <tr>\n",
       "      <th>2004</th>\n",
       "      <td>485115</td>\n",
       "      <td>485115</td>\n",
       "      <td>3.8492e+07</td>\n",
       "      <td>2.94442</td>\n",
       "      <td>16884.071429</td>\n",
       "    </tr>\n",
       "    <tr>\n",
       "      <th>2005</th>\n",
       "      <td>528056</td>\n",
       "      <td>582538</td>\n",
       "      <td>3.88929e+07</td>\n",
       "      <td>2.92332</td>\n",
       "      <td>23419.366142</td>\n",
       "    </tr>\n",
       "    <tr>\n",
       "      <th>2006</th>\n",
       "      <td>570549</td>\n",
       "      <td>715904</td>\n",
       "      <td>3.92899e+07</td>\n",
       "      <td>3.07456</td>\n",
       "      <td>25063.305221</td>\n",
       "    </tr>\n",
       "    <tr>\n",
       "      <th>2007</th>\n",
       "      <td>621943</td>\n",
       "      <td>896980</td>\n",
       "      <td>3.96843e+07</td>\n",
       "      <td>3.1159</td>\n",
       "      <td>40383.178138</td>\n",
       "    </tr>\n",
       "    <tr>\n",
       "      <th>2008</th>\n",
       "      <td>647176</td>\n",
       "      <td>1.14965e+06</td>\n",
       "      <td>4.00802e+07</td>\n",
       "      <td>3.16276</td>\n",
       "      <td>47778.875502</td>\n",
       "    </tr>\n",
       "    <tr>\n",
       "      <th>2009</th>\n",
       "      <td>608873</td>\n",
       "      <td>1.24793e+06</td>\n",
       "      <td>4.04828e+07</td>\n",
       "      <td>3.7305</td>\n",
       "      <td>46355.044715</td>\n",
       "    </tr>\n",
       "    <tr>\n",
       "      <th>2010</th>\n",
       "      <td>670524</td>\n",
       "      <td>1.66172e+06</td>\n",
       "      <td>4.07885e+07</td>\n",
       "      <td>3.91286</td>\n",
       "      <td>49717.191057</td>\n",
       "    </tr>\n",
       "    <tr>\n",
       "      <th>2011</th>\n",
       "      <td>710782</td>\n",
       "      <td>2.17902e+06</td>\n",
       "      <td>4.12615e+07</td>\n",
       "      <td>4.13052</td>\n",
       "      <td>50410.134146</td>\n",
       "    </tr>\n",
       "    <tr>\n",
       "      <th>2012</th>\n",
       "      <td>703486</td>\n",
       "      <td>2.63791e+06</td>\n",
       "      <td>4.17333e+07</td>\n",
       "      <td>4.55252</td>\n",
       "      <td>46140.289256</td>\n",
       "    </tr>\n",
       "    <tr>\n",
       "      <th>2013</th>\n",
       "      <td>720407</td>\n",
       "      <td>3.34831e+06</td>\n",
       "      <td>4.22029e+07</td>\n",
       "      <td>5.4837</td>\n",
       "      <td>37514.356846</td>\n",
       "    </tr>\n",
       "    <tr>\n",
       "      <th>2014</th>\n",
       "      <td>702306</td>\n",
       "      <td>4.57909e+06</td>\n",
       "      <td>4.26695e+07</td>\n",
       "      <td>8.12127</td>\n",
       "      <td>28535.739669</td>\n",
       "    </tr>\n",
       "    <tr>\n",
       "      <th>2015</th>\n",
       "      <td>721487</td>\n",
       "      <td>5.95451e+06</td>\n",
       "      <td>4.3132e+07</td>\n",
       "      <td>9.26811</td>\n",
       "      <td>31179.389344</td>\n",
       "    </tr>\n",
       "    <tr>\n",
       "      <th>2016</th>\n",
       "      <td>706478</td>\n",
       "      <td>8.22816e+06</td>\n",
       "      <td>4.35904e+07</td>\n",
       "      <td>14.7854</td>\n",
       "      <td>32226.437247</td>\n",
       "    </tr>\n",
       "    <tr>\n",
       "      <th>2017</th>\n",
       "      <td>726390</td>\n",
       "      <td>1.06602e+07</td>\n",
       "      <td>4.40448e+07</td>\n",
       "      <td>16.6557</td>\n",
       "      <td>49276.808943</td>\n",
       "    </tr>\n",
       "    <tr>\n",
       "      <th>2018</th>\n",
       "      <td>707755</td>\n",
       "      <td>1.45427e+07</td>\n",
       "      <td>4.44945e+07</td>\n",
       "      <td>28.1329</td>\n",
       "      <td>56296.950413</td>\n",
       "    </tr>\n",
       "    <tr>\n",
       "      <th>2019</th>\n",
       "      <td>692977</td>\n",
       "      <td>2.14472e+07</td>\n",
       "      <td>4.49387e+07</td>\n",
       "      <td>48.2818</td>\n",
       "      <td>59897.193416</td>\n",
       "    </tr>\n",
       "    <tr>\n",
       "      <th>2020</th>\n",
       "      <td>624336</td>\n",
       "      <td>2.70212e+07</td>\n",
       "      <td>4.53768e+07</td>\n",
       "      <td>70.6548</td>\n",
       "      <td>42673.704167</td>\n",
       "    </tr>\n",
       "  </tbody>\n",
       "</table>\n",
       "</div>"
      ],
      "text/plain": [
       "     Producto Interno Bruto en millones de pesos a precios de 2004  \\\n",
       "2004                                             485115              \n",
       "2005                                             528056              \n",
       "2006                                             570549              \n",
       "2007                                             621943              \n",
       "2008                                             647176              \n",
       "2009                                             608873              \n",
       "2010                                             670524              \n",
       "2011                                             710782              \n",
       "2012                                             703486              \n",
       "2013                                             720407              \n",
       "2014                                             702306              \n",
       "2015                                             721487              \n",
       "2016                                             706478              \n",
       "2017                                             726390              \n",
       "2018                                             707755              \n",
       "2019                                             692977              \n",
       "2020                                             624336              \n",
       "\n",
       "     Producto Interno Bruto en millones de pesos a precios corrientes  \\\n",
       "2004                                             485115                 \n",
       "2005                                             582538                 \n",
       "2006                                             715904                 \n",
       "2007                                             896980                 \n",
       "2008                                        1.14965e+06                 \n",
       "2009                                        1.24793e+06                 \n",
       "2010                                        1.66172e+06                 \n",
       "2011                                        2.17902e+06                 \n",
       "2012                                        2.63791e+06                 \n",
       "2013                                        3.34831e+06                 \n",
       "2014                                        4.57909e+06                 \n",
       "2015                                        5.95451e+06                 \n",
       "2016                                        8.22816e+06                 \n",
       "2017                                        1.06602e+07                 \n",
       "2018                                        1.45427e+07                 \n",
       "2019                                        2.14472e+07                 \n",
       "2020                                        2.70212e+07                 \n",
       "\n",
       "        Población Tipo de cambio  \\\n",
       "2004   3.8492e+07        2.94442   \n",
       "2005  3.88929e+07        2.92332   \n",
       "2006  3.92899e+07        3.07456   \n",
       "2007  3.96843e+07         3.1159   \n",
       "2008  4.00802e+07        3.16276   \n",
       "2009  4.04828e+07         3.7305   \n",
       "2010  4.07885e+07        3.91286   \n",
       "2011  4.12615e+07        4.13052   \n",
       "2012  4.17333e+07        4.55252   \n",
       "2013  4.22029e+07         5.4837   \n",
       "2014  4.26695e+07        8.12127   \n",
       "2015   4.3132e+07        9.26811   \n",
       "2016  4.35904e+07        14.7854   \n",
       "2017  4.40448e+07        16.6557   \n",
       "2018  4.44945e+07        28.1329   \n",
       "2019  4.49387e+07        48.2818   \n",
       "2020  4.53768e+07        70.6548   \n",
       "\n",
       "      Reservas Internacionales en millones de dólares  \n",
       "2004                                     16884.071429  \n",
       "2005                                     23419.366142  \n",
       "2006                                     25063.305221  \n",
       "2007                                     40383.178138  \n",
       "2008                                     47778.875502  \n",
       "2009                                     46355.044715  \n",
       "2010                                     49717.191057  \n",
       "2011                                     50410.134146  \n",
       "2012                                     46140.289256  \n",
       "2013                                     37514.356846  \n",
       "2014                                     28535.739669  \n",
       "2015                                     31179.389344  \n",
       "2016                                     32226.437247  \n",
       "2017                                     49276.808943  \n",
       "2018                                     56296.950413  \n",
       "2019                                     59897.193416  \n",
       "2020                                     42673.704167  "
      ]
     },
     "execution_count": 8,
     "metadata": {},
     "output_type": "execute_result"
    }
   ],
   "source": [
    "datos_t"
   ]
  },
  {
   "cell_type": "markdown",
   "id": "22b3861a",
   "metadata": {},
   "source": [
    "### Cálculo de estadísticas macroeconómicas\n",
    "\n",
    "1. PBI per cápita a precios constantes en miles de pesos\n",
    "2. PBI en millones de dólares a precios corrientes\n",
    "3. PBI per cápita en miles de dólares a precios corrientes\n",
    "4. Reservas internacionales brutas del Banco Central como porcentaje del PBI"
   ]
  },
  {
   "cell_type": "code",
   "execution_count": 9,
   "id": "dc03dffd",
   "metadata": {},
   "outputs": [],
   "source": [
    "datos_t[\"PBI per cápita a precios constantes en miles de pesos\"] = 1000*datos_t[\"Producto Interno Bruto en millones de pesos a precios de 2004\"]/datos_t[\"Población\"]"
   ]
  },
  {
   "cell_type": "code",
   "execution_count": 10,
   "id": "b2927b79",
   "metadata": {},
   "outputs": [],
   "source": [
    "datos_t[\"PBI en millones de dólares a precios corrientes\"] = datos_t[\"Producto Interno Bruto en millones de pesos a precios corrientes\"]/datos_t[\"Tipo de cambio\"]"
   ]
  },
  {
   "cell_type": "code",
   "execution_count": 11,
   "id": "bd121354",
   "metadata": {},
   "outputs": [],
   "source": [
    "datos_t[\"PBI per cápita en miles de dólares a precios corrientes\"] = 1000* datos_t[\"PBI en millones de dólares a precios corrientes\"]/ datos_t[\"Población\"]"
   ]
  },
  {
   "cell_type": "code",
   "execution_count": 12,
   "id": "05fde6a6",
   "metadata": {
    "scrolled": false
   },
   "outputs": [],
   "source": [
    "datos_t[\"Reservas Internacionales como porcentaje del PBI\"] = 100* datos_t[\"Reservas Internacionales en millones de dólares\"]/datos_t[\"PBI en millones de dólares a precios corrientes\"]"
   ]
  },
  {
   "cell_type": "markdown",
   "id": "0f78b8a7",
   "metadata": {},
   "source": [
    "#### Inclusión de los datos de Formación Bruta de Capital Fijo"
   ]
  },
  {
   "cell_type": "code",
   "execution_count": 13,
   "id": "d5370c31",
   "metadata": {},
   "outputs": [],
   "source": [
    "fbkf.dropna(inplace = True)\n",
    "fbkf_t = fbkf.transpose()\n",
    "fbkf_t.rename(columns=fbkf_t.iloc[0], inplace = True)\n",
    "fbkf_t.drop(fbkf_t.index[0], inplace = True)"
   ]
  },
  {
   "cell_type": "code",
   "execution_count": 14,
   "id": "f6552412",
   "metadata": {},
   "outputs": [],
   "source": [
    "datos_t = pd.concat([fbkf_t, datos_t], axis = 1)"
   ]
  },
  {
   "cell_type": "markdown",
   "id": "69291dc1",
   "metadata": {},
   "source": [
    "### Cálculo de Tasa de crecimiento del PBI anual en pesos constantes\n",
    "\n",
    "Para obtener la tasa porcentual de crecimiento del PBI hay que calcular\n",
    "\n",
    "<p style=\"text-align: center;\">\n",
    "<font size=\"5\">\n",
    "$\\% \\Delta PBI_t = \\frac{PBI_t - PBI_{t-1}}{PBI_{t-1}} \\cdot 100$\n",
    "</p>"
   ]
  },
  {
   "cell_type": "code",
   "execution_count": 15,
   "id": "d65493b9",
   "metadata": {},
   "outputs": [],
   "source": [
    "PBI_corriente = datos_t[\"Producto Interno Bruto en millones de pesos a precios de 2004\"].to_list()"
   ]
  },
  {
   "cell_type": "code",
   "execution_count": 16,
   "id": "1f36b79f",
   "metadata": {},
   "outputs": [],
   "source": [
    "crecimiento_pbi_anual = {}\n",
    "for i in range(len(PBI_corriente)-1):\n",
    "    crecimiento_pbi = 100*(PBI_corriente[i+1]-PBI_corriente[i])/PBI_corriente[i]\n",
    "    crecimiento_pbi_anual[2004+i+1] = crecimiento_pbi"
   ]
  },
  {
   "cell_type": "code",
   "execution_count": 17,
   "id": "f4be9e1e",
   "metadata": {},
   "outputs": [],
   "source": [
    "crecimiento_pbi_anual = pd.Series(crecimiento_pbi_anual)"
   ]
  },
  {
   "cell_type": "code",
   "execution_count": 18,
   "id": "7f3863e4",
   "metadata": {},
   "outputs": [],
   "source": [
    "tabla = pd.merge(crecimiento_pbi_anual.rename(\"Crecimiento PBI %\"), datos_t, \"outer\", right_index = True, left_index= True)"
   ]
  },
  {
   "cell_type": "code",
   "execution_count": 19,
   "id": "dde2be6f",
   "metadata": {},
   "outputs": [
    {
     "data": {
      "text/html": [
       "<div>\n",
       "<style scoped>\n",
       "    .dataframe tbody tr th:only-of-type {\n",
       "        vertical-align: middle;\n",
       "    }\n",
       "\n",
       "    .dataframe tbody tr th {\n",
       "        vertical-align: top;\n",
       "    }\n",
       "\n",
       "    .dataframe thead th {\n",
       "        text-align: right;\n",
       "    }\n",
       "</style>\n",
       "<table border=\"1\" class=\"dataframe\">\n",
       "  <thead>\n",
       "    <tr style=\"text-align: right;\">\n",
       "      <th></th>\n",
       "      <th>Crecimiento PBI %</th>\n",
       "      <th>Formación bruta de capital fijo en millones de pesos a precios corrientes</th>\n",
       "      <th>Formación bruta de capital fijo en millones de pesos a precios de 2004</th>\n",
       "      <th>Producto Interno Bruto en millones de pesos a precios de 2004</th>\n",
       "      <th>Producto Interno Bruto en millones de pesos a precios corrientes</th>\n",
       "      <th>Población</th>\n",
       "      <th>Tipo de cambio</th>\n",
       "      <th>Reservas Internacionales en millones de dólares</th>\n",
       "      <th>PBI per cápita a precios constantes en miles de pesos</th>\n",
       "      <th>PBI en millones de dólares a precios corrientes</th>\n",
       "      <th>PBI per cápita en miles de dólares a precios corrientes</th>\n",
       "      <th>Reservas Internacionales como porcentaje del PBI</th>\n",
       "    </tr>\n",
       "  </thead>\n",
       "  <tbody>\n",
       "    <tr>\n",
       "      <th>2004</th>\n",
       "      <td>NaN</td>\n",
       "      <td>77103.2</td>\n",
       "      <td>77103.2</td>\n",
       "      <td>485115</td>\n",
       "      <td>485115</td>\n",
       "      <td>3.8492e+07</td>\n",
       "      <td>2.94442</td>\n",
       "      <td>16884.071429</td>\n",
       "      <td>12.603</td>\n",
       "      <td>164757</td>\n",
       "      <td>4.28031</td>\n",
       "      <td>10.2478</td>\n",
       "    </tr>\n",
       "    <tr>\n",
       "      <th>2005</th>\n",
       "      <td>8.851660</td>\n",
       "      <td>101077</td>\n",
       "      <td>89307.4</td>\n",
       "      <td>528056</td>\n",
       "      <td>582538</td>\n",
       "      <td>3.88929e+07</td>\n",
       "      <td>2.92332</td>\n",
       "      <td>23419.366142</td>\n",
       "      <td>13.5772</td>\n",
       "      <td>199273</td>\n",
       "      <td>5.12363</td>\n",
       "      <td>11.7524</td>\n",
       "    </tr>\n",
       "    <tr>\n",
       "      <th>2006</th>\n",
       "      <td>8.047152</td>\n",
       "      <td>131234</td>\n",
       "      <td>102233</td>\n",
       "      <td>570549</td>\n",
       "      <td>715904</td>\n",
       "      <td>3.92899e+07</td>\n",
       "      <td>3.07456</td>\n",
       "      <td>25063.305221</td>\n",
       "      <td>14.5215</td>\n",
       "      <td>232848</td>\n",
       "      <td>5.92641</td>\n",
       "      <td>10.7638</td>\n",
       "    </tr>\n",
       "    <tr>\n",
       "      <th>2007</th>\n",
       "      <td>9.007651</td>\n",
       "      <td>175055</td>\n",
       "      <td>123142</td>\n",
       "      <td>621943</td>\n",
       "      <td>896980</td>\n",
       "      <td>3.96843e+07</td>\n",
       "      <td>3.1159</td>\n",
       "      <td>40383.178138</td>\n",
       "      <td>15.6723</td>\n",
       "      <td>287872</td>\n",
       "      <td>7.25406</td>\n",
       "      <td>14.0282</td>\n",
       "    </tr>\n",
       "    <tr>\n",
       "      <th>2008</th>\n",
       "      <td>4.057233</td>\n",
       "      <td>218550</td>\n",
       "      <td>133850</td>\n",
       "      <td>647176</td>\n",
       "      <td>1.14965e+06</td>\n",
       "      <td>4.00802e+07</td>\n",
       "      <td>3.16276</td>\n",
       "      <td>47778.875502</td>\n",
       "      <td>16.147</td>\n",
       "      <td>363495</td>\n",
       "      <td>9.0692</td>\n",
       "      <td>13.1443</td>\n",
       "    </tr>\n",
       "    <tr>\n",
       "      <th>2009</th>\n",
       "      <td>-5.918525</td>\n",
       "      <td>194449</td>\n",
       "      <td>103636</td>\n",
       "      <td>608873</td>\n",
       "      <td>1.24793e+06</td>\n",
       "      <td>4.04828e+07</td>\n",
       "      <td>3.7305</td>\n",
       "      <td>46355.044715</td>\n",
       "      <td>15.0403</td>\n",
       "      <td>334520</td>\n",
       "      <td>8.26327</td>\n",
       "      <td>13.8572</td>\n",
       "    </tr>\n",
       "    <tr>\n",
       "      <th>2010</th>\n",
       "      <td>10.125398</td>\n",
       "      <td>276535</td>\n",
       "      <td>130846</td>\n",
       "      <td>670524</td>\n",
       "      <td>1.66172e+06</td>\n",
       "      <td>4.07885e+07</td>\n",
       "      <td>3.91286</td>\n",
       "      <td>49717.191057</td>\n",
       "      <td>16.4391</td>\n",
       "      <td>424682</td>\n",
       "      <td>10.4118</td>\n",
       "      <td>11.7069</td>\n",
       "    </tr>\n",
       "    <tr>\n",
       "      <th>2011</th>\n",
       "      <td>6.003952</td>\n",
       "      <td>375844</td>\n",
       "      <td>153584</td>\n",
       "      <td>710782</td>\n",
       "      <td>2.17902e+06</td>\n",
       "      <td>4.12615e+07</td>\n",
       "      <td>4.13052</td>\n",
       "      <td>50410.134146</td>\n",
       "      <td>17.2263</td>\n",
       "      <td>527542</td>\n",
       "      <td>12.7853</td>\n",
       "      <td>9.55566</td>\n",
       "    </tr>\n",
       "    <tr>\n",
       "      <th>2012</th>\n",
       "      <td>-1.026420</td>\n",
       "      <td>418308</td>\n",
       "      <td>142718</td>\n",
       "      <td>703486</td>\n",
       "      <td>2.63791e+06</td>\n",
       "      <td>4.17333e+07</td>\n",
       "      <td>4.55252</td>\n",
       "      <td>46140.289256</td>\n",
       "      <td>16.8567</td>\n",
       "      <td>579441</td>\n",
       "      <td>13.8844</td>\n",
       "      <td>7.9629</td>\n",
       "    </tr>\n",
       "    <tr>\n",
       "      <th>2013</th>\n",
       "      <td>2.405324</td>\n",
       "      <td>545423</td>\n",
       "      <td>146057</td>\n",
       "      <td>720407</td>\n",
       "      <td>3.34831e+06</td>\n",
       "      <td>4.22029e+07</td>\n",
       "      <td>5.4837</td>\n",
       "      <td>37514.356846</td>\n",
       "      <td>17.0701</td>\n",
       "      <td>610593</td>\n",
       "      <td>14.468</td>\n",
       "      <td>6.14392</td>\n",
       "    </tr>\n",
       "    <tr>\n",
       "      <th>2014</th>\n",
       "      <td>-2.512615</td>\n",
       "      <td>731736</td>\n",
       "      <td>136190</td>\n",
       "      <td>702306</td>\n",
       "      <td>4.57909e+06</td>\n",
       "      <td>4.26695e+07</td>\n",
       "      <td>8.12127</td>\n",
       "      <td>28535.739669</td>\n",
       "      <td>16.4592</td>\n",
       "      <td>563839</td>\n",
       "      <td>13.2141</td>\n",
       "      <td>5.06098</td>\n",
       "    </tr>\n",
       "    <tr>\n",
       "      <th>2015</th>\n",
       "      <td>2.731160</td>\n",
       "      <td>926804</td>\n",
       "      <td>140905</td>\n",
       "      <td>721487</td>\n",
       "      <td>5.95451e+06</td>\n",
       "      <td>4.3132e+07</td>\n",
       "      <td>9.26811</td>\n",
       "      <td>31179.389344</td>\n",
       "      <td>16.7274</td>\n",
       "      <td>642473</td>\n",
       "      <td>14.8955</td>\n",
       "      <td>4.85303</td>\n",
       "    </tr>\n",
       "    <tr>\n",
       "      <th>2016</th>\n",
       "      <td>-2.080328</td>\n",
       "      <td>1.17435e+06</td>\n",
       "      <td>132763</td>\n",
       "      <td>706478</td>\n",
       "      <td>8.22816e+06</td>\n",
       "      <td>4.35904e+07</td>\n",
       "      <td>14.7854</td>\n",
       "      <td>32226.437247</td>\n",
       "      <td>16.2072</td>\n",
       "      <td>556506</td>\n",
       "      <td>12.7667</td>\n",
       "      <td>5.79085</td>\n",
       "    </tr>\n",
       "    <tr>\n",
       "      <th>2017</th>\n",
       "      <td>2.818503</td>\n",
       "      <td>1.61633e+06</td>\n",
       "      <td>150528</td>\n",
       "      <td>726390</td>\n",
       "      <td>1.06602e+07</td>\n",
       "      <td>4.40448e+07</td>\n",
       "      <td>16.6557</td>\n",
       "      <td>49276.808943</td>\n",
       "      <td>16.4921</td>\n",
       "      <td>640035</td>\n",
       "      <td>14.5315</td>\n",
       "      <td>7.69907</td>\n",
       "    </tr>\n",
       "    <tr>\n",
       "      <th>2018</th>\n",
       "      <td>-2.565352</td>\n",
       "      <td>2.13195e+06</td>\n",
       "      <td>141505</td>\n",
       "      <td>707755</td>\n",
       "      <td>1.45427e+07</td>\n",
       "      <td>4.44945e+07</td>\n",
       "      <td>28.1329</td>\n",
       "      <td>56296.950413</td>\n",
       "      <td>15.9066</td>\n",
       "      <td>516930</td>\n",
       "      <td>11.6178</td>\n",
       "      <td>10.8906</td>\n",
       "    </tr>\n",
       "    <tr>\n",
       "      <th>2019</th>\n",
       "      <td>-2.088015</td>\n",
       "      <td>2.90483e+06</td>\n",
       "      <td>118858</td>\n",
       "      <td>692977</td>\n",
       "      <td>2.14472e+07</td>\n",
       "      <td>4.49387e+07</td>\n",
       "      <td>48.2818</td>\n",
       "      <td>59897.193416</td>\n",
       "      <td>15.4205</td>\n",
       "      <td>444210</td>\n",
       "      <td>9.88479</td>\n",
       "      <td>13.484</td>\n",
       "    </tr>\n",
       "    <tr>\n",
       "      <th>2020</th>\n",
       "      <td>-9.905235</td>\n",
       "      <td>3.61486e+06</td>\n",
       "      <td>103372</td>\n",
       "      <td>624336</td>\n",
       "      <td>2.70212e+07</td>\n",
       "      <td>4.53768e+07</td>\n",
       "      <td>70.6548</td>\n",
       "      <td>42673.704167</td>\n",
       "      <td>13.7589</td>\n",
       "      <td>382440</td>\n",
       "      <td>8.42811</td>\n",
       "      <td>11.1583</td>\n",
       "    </tr>\n",
       "  </tbody>\n",
       "</table>\n",
       "</div>"
      ],
      "text/plain": [
       "      Crecimiento PBI %  \\\n",
       "2004                NaN   \n",
       "2005           8.851660   \n",
       "2006           8.047152   \n",
       "2007           9.007651   \n",
       "2008           4.057233   \n",
       "2009          -5.918525   \n",
       "2010          10.125398   \n",
       "2011           6.003952   \n",
       "2012          -1.026420   \n",
       "2013           2.405324   \n",
       "2014          -2.512615   \n",
       "2015           2.731160   \n",
       "2016          -2.080328   \n",
       "2017           2.818503   \n",
       "2018          -2.565352   \n",
       "2019          -2.088015   \n",
       "2020          -9.905235   \n",
       "\n",
       "     Formación bruta de capital fijo en millones de pesos a precios corrientes  \\\n",
       "2004                                            77103.2                          \n",
       "2005                                             101077                          \n",
       "2006                                             131234                          \n",
       "2007                                             175055                          \n",
       "2008                                             218550                          \n",
       "2009                                             194449                          \n",
       "2010                                             276535                          \n",
       "2011                                             375844                          \n",
       "2012                                             418308                          \n",
       "2013                                             545423                          \n",
       "2014                                             731736                          \n",
       "2015                                             926804                          \n",
       "2016                                        1.17435e+06                          \n",
       "2017                                        1.61633e+06                          \n",
       "2018                                        2.13195e+06                          \n",
       "2019                                        2.90483e+06                          \n",
       "2020                                        3.61486e+06                          \n",
       "\n",
       "     Formación bruta de capital fijo en millones de pesos a precios de 2004  \\\n",
       "2004                                            77103.2                       \n",
       "2005                                            89307.4                       \n",
       "2006                                             102233                       \n",
       "2007                                             123142                       \n",
       "2008                                             133850                       \n",
       "2009                                             103636                       \n",
       "2010                                             130846                       \n",
       "2011                                             153584                       \n",
       "2012                                             142718                       \n",
       "2013                                             146057                       \n",
       "2014                                             136190                       \n",
       "2015                                             140905                       \n",
       "2016                                             132763                       \n",
       "2017                                             150528                       \n",
       "2018                                             141505                       \n",
       "2019                                             118858                       \n",
       "2020                                             103372                       \n",
       "\n",
       "     Producto Interno Bruto en millones de pesos a precios de 2004  \\\n",
       "2004                                             485115              \n",
       "2005                                             528056              \n",
       "2006                                             570549              \n",
       "2007                                             621943              \n",
       "2008                                             647176              \n",
       "2009                                             608873              \n",
       "2010                                             670524              \n",
       "2011                                             710782              \n",
       "2012                                             703486              \n",
       "2013                                             720407              \n",
       "2014                                             702306              \n",
       "2015                                             721487              \n",
       "2016                                             706478              \n",
       "2017                                             726390              \n",
       "2018                                             707755              \n",
       "2019                                             692977              \n",
       "2020                                             624336              \n",
       "\n",
       "     Producto Interno Bruto en millones de pesos a precios corrientes  \\\n",
       "2004                                             485115                 \n",
       "2005                                             582538                 \n",
       "2006                                             715904                 \n",
       "2007                                             896980                 \n",
       "2008                                        1.14965e+06                 \n",
       "2009                                        1.24793e+06                 \n",
       "2010                                        1.66172e+06                 \n",
       "2011                                        2.17902e+06                 \n",
       "2012                                        2.63791e+06                 \n",
       "2013                                        3.34831e+06                 \n",
       "2014                                        4.57909e+06                 \n",
       "2015                                        5.95451e+06                 \n",
       "2016                                        8.22816e+06                 \n",
       "2017                                        1.06602e+07                 \n",
       "2018                                        1.45427e+07                 \n",
       "2019                                        2.14472e+07                 \n",
       "2020                                        2.70212e+07                 \n",
       "\n",
       "        Población Tipo de cambio  \\\n",
       "2004   3.8492e+07        2.94442   \n",
       "2005  3.88929e+07        2.92332   \n",
       "2006  3.92899e+07        3.07456   \n",
       "2007  3.96843e+07         3.1159   \n",
       "2008  4.00802e+07        3.16276   \n",
       "2009  4.04828e+07         3.7305   \n",
       "2010  4.07885e+07        3.91286   \n",
       "2011  4.12615e+07        4.13052   \n",
       "2012  4.17333e+07        4.55252   \n",
       "2013  4.22029e+07         5.4837   \n",
       "2014  4.26695e+07        8.12127   \n",
       "2015   4.3132e+07        9.26811   \n",
       "2016  4.35904e+07        14.7854   \n",
       "2017  4.40448e+07        16.6557   \n",
       "2018  4.44945e+07        28.1329   \n",
       "2019  4.49387e+07        48.2818   \n",
       "2020  4.53768e+07        70.6548   \n",
       "\n",
       "      Reservas Internacionales en millones de dólares  \\\n",
       "2004                                     16884.071429   \n",
       "2005                                     23419.366142   \n",
       "2006                                     25063.305221   \n",
       "2007                                     40383.178138   \n",
       "2008                                     47778.875502   \n",
       "2009                                     46355.044715   \n",
       "2010                                     49717.191057   \n",
       "2011                                     50410.134146   \n",
       "2012                                     46140.289256   \n",
       "2013                                     37514.356846   \n",
       "2014                                     28535.739669   \n",
       "2015                                     31179.389344   \n",
       "2016                                     32226.437247   \n",
       "2017                                     49276.808943   \n",
       "2018                                     56296.950413   \n",
       "2019                                     59897.193416   \n",
       "2020                                     42673.704167   \n",
       "\n",
       "     PBI per cápita a precios constantes en miles de pesos  \\\n",
       "2004                                             12.603      \n",
       "2005                                            13.5772      \n",
       "2006                                            14.5215      \n",
       "2007                                            15.6723      \n",
       "2008                                             16.147      \n",
       "2009                                            15.0403      \n",
       "2010                                            16.4391      \n",
       "2011                                            17.2263      \n",
       "2012                                            16.8567      \n",
       "2013                                            17.0701      \n",
       "2014                                            16.4592      \n",
       "2015                                            16.7274      \n",
       "2016                                            16.2072      \n",
       "2017                                            16.4921      \n",
       "2018                                            15.9066      \n",
       "2019                                            15.4205      \n",
       "2020                                            13.7589      \n",
       "\n",
       "     PBI en millones de dólares a precios corrientes  \\\n",
       "2004                                          164757   \n",
       "2005                                          199273   \n",
       "2006                                          232848   \n",
       "2007                                          287872   \n",
       "2008                                          363495   \n",
       "2009                                          334520   \n",
       "2010                                          424682   \n",
       "2011                                          527542   \n",
       "2012                                          579441   \n",
       "2013                                          610593   \n",
       "2014                                          563839   \n",
       "2015                                          642473   \n",
       "2016                                          556506   \n",
       "2017                                          640035   \n",
       "2018                                          516930   \n",
       "2019                                          444210   \n",
       "2020                                          382440   \n",
       "\n",
       "     PBI per cápita en miles de dólares a precios corrientes  \\\n",
       "2004                                            4.28031        \n",
       "2005                                            5.12363        \n",
       "2006                                            5.92641        \n",
       "2007                                            7.25406        \n",
       "2008                                             9.0692        \n",
       "2009                                            8.26327        \n",
       "2010                                            10.4118        \n",
       "2011                                            12.7853        \n",
       "2012                                            13.8844        \n",
       "2013                                             14.468        \n",
       "2014                                            13.2141        \n",
       "2015                                            14.8955        \n",
       "2016                                            12.7667        \n",
       "2017                                            14.5315        \n",
       "2018                                            11.6178        \n",
       "2019                                            9.88479        \n",
       "2020                                            8.42811        \n",
       "\n",
       "     Reservas Internacionales como porcentaje del PBI  \n",
       "2004                                          10.2478  \n",
       "2005                                          11.7524  \n",
       "2006                                          10.7638  \n",
       "2007                                          14.0282  \n",
       "2008                                          13.1443  \n",
       "2009                                          13.8572  \n",
       "2010                                          11.7069  \n",
       "2011                                          9.55566  \n",
       "2012                                           7.9629  \n",
       "2013                                          6.14392  \n",
       "2014                                          5.06098  \n",
       "2015                                          4.85303  \n",
       "2016                                          5.79085  \n",
       "2017                                          7.69907  \n",
       "2018                                          10.8906  \n",
       "2019                                           13.484  \n",
       "2020                                          11.1583  "
      ]
     },
     "execution_count": 19,
     "metadata": {},
     "output_type": "execute_result"
    }
   ],
   "source": [
    "tabla"
   ]
  },
  {
   "cell_type": "markdown",
   "id": "a3715b54",
   "metadata": {},
   "source": [
    "### Cálculo de la tasa de crecimiento promedio acumulado del PBI anual en pesos constantes a lo largo de los períodos\n",
    "- 2004-2020 \n",
    "- 2004-2011\n",
    "- 2011-2020\n",
    "\n",
    "Para obtener estos valores hay que recordar que el crecimiento se comporta de forma compuesta, es decir que el crecimiento total no es la suma de los crecimientos de cada año sino su producto. Teniendo en cuenta esto la fórmula para obtener el crecimiento anual promedio (**x**) dado un crecimiento total acumulado **CT** en un período de **n** años es: \n",
    "\n",
    "<p style=\"text-align: center;\">\n",
    "<font size=\"5\">\n",
    "$x = [(1 + CT)^{\\frac{1}{n}} - 1] \\cdot 100 $\n",
    "    \n",
    "</p>"
   ]
  },
  {
   "cell_type": "code",
   "execution_count": 20,
   "id": "333f190f",
   "metadata": {},
   "outputs": [],
   "source": [
    "CT_2004_2020 = (PBI_corriente[-1]-PBI_corriente[0])/PBI_corriente[0]\n",
    "CT_2004_2011 = (PBI_corriente[7]-PBI_corriente[0])/PBI_corriente[0]\n",
    "CT_2011_2020 = (PBI_corriente[-1]-PBI_corriente[7])/PBI_corriente[7]"
   ]
  },
  {
   "cell_type": "code",
   "execution_count": 21,
   "id": "8290d33c",
   "metadata": {},
   "outputs": [],
   "source": [
    "def promedio_tasa_crecimiento(CT, n):\n",
    "    return ((1+ CT)**(1/n)-1) *100"
   ]
  },
  {
   "cell_type": "code",
   "execution_count": 22,
   "id": "18cda1ac",
   "metadata": {},
   "outputs": [],
   "source": [
    "crecimiento_promedio_2004_2020 = promedio_tasa_crecimiento(CT_2004_2020, 16)\n",
    "crecimiento_promedio_2004_2011 = promedio_tasa_crecimiento(CT_2004_2011, 7)\n",
    "crecimiento_promedio_2011_2020 = promedio_tasa_crecimiento(CT_2011_2020, 9)"
   ]
  },
  {
   "cell_type": "code",
   "execution_count": 23,
   "id": "ba9ed263",
   "metadata": {},
   "outputs": [
    {
     "name": "stdout",
     "output_type": "stream",
     "text": [
      "La tasa de crecimiento promedio acumuilado del PBI anual en pesos constantes a lo largo de 2004 y 2020 es 1.5893920534175265 %\n",
      "La tasa de crecimiento promedio acumuilado del PBI anual en pesos constantes a lo largo de 2004 y 2011  es 5.608471422383188 %\n",
      "La tasa de crecimiento promedio acumuilado del PBI anual en pesos constantes a lo largo de 2011 y 2020 es -1.4305125382749195 %\n"
     ]
    }
   ],
   "source": [
    "print(\"La tasa de crecimiento promedio acumuilado del PBI anual en pesos constantes a lo largo de 2004 y 2020 es {} %\".format(crecimiento_promedio_2004_2020))\n",
    "print(\"La tasa de crecimiento promedio acumuilado del PBI anual en pesos constantes a lo largo de 2004 y 2011  es {} %\".format(crecimiento_promedio_2004_2011))\n",
    "print(\"La tasa de crecimiento promedio acumuilado del PBI anual en pesos constantes a lo largo de 2011 y 2020 es {} %\".format(crecimiento_promedio_2011_2020))"
   ]
  },
  {
   "cell_type": "markdown",
   "id": "02b3361b",
   "metadata": {},
   "source": [
    "## Gráficos"
   ]
  },
  {
   "cell_type": "markdown",
   "id": "cfb238df",
   "metadata": {},
   "source": [
    "### PBI anual y per cápita en dólares corrientes"
   ]
  },
  {
   "cell_type": "code",
   "execution_count": 24,
   "id": "d60b8a32",
   "metadata": {},
   "outputs": [
    {
     "data": {
      "image/png": "[encoded data removed]",
      "text/plain": [
       "<Figure size 432x288 with 1 Axes>"
      ]
     },
     "metadata": {},
     "output_type": "display_data"
    }
   ],
   "source": [
    "sns.set_theme()\n",
    "g1 = sns.lineplot(x= tabla.index, y = tabla[\"PBI en millones de dólares a precios corrientes\"].astype(float))\n",
    "g1.set(title = \"Evolución del PBI en millones de dólares a precios corrientes\")\n",
    "g1.set_ylabel(\"Millones de dólares\")\n",
    "g1.set_xlabel(\"Año\");"
   ]
  },
  {
   "cell_type": "code",
   "execution_count": 25,
   "id": "bb7b2293",
   "metadata": {
    "scrolled": true
   },
   "outputs": [
    {
     "data": {
      "image/png": "[encoded data removed]",
      "text/plain": [
       "<Figure size 432x288 with 1 Axes>"
      ]
     },
     "metadata": {},
     "output_type": "display_data"
    }
   ],
   "source": [
    "g2 = sns.lineplot(x= tabla.index, y = tabla[\"PBI per cápita en miles de dólares a precios corrientes\"].astype(float))\n",
    "g2.set(title = \"Evolución del PBI per cápita en miles de dólares a precios corrientes\")\n",
    "g2.set_ylabel(\"Miles de dólares\")\n",
    "g2.set_xlabel(\"Año\");"
   ]
  },
  {
   "cell_type": "markdown",
   "id": "7db3c5d8",
   "metadata": {},
   "source": [
    "### PBI anual y per cápita a precios constantes"
   ]
  },
  {
   "cell_type": "code",
   "execution_count": 26,
   "id": "58036a2e",
   "metadata": {},
   "outputs": [
    {
     "data": {
      "image/png": "[encoded data removed]",
      "text/plain": [
       "<Figure size 432x288 with 1 Axes>"
      ]
     },
     "metadata": {},
     "output_type": "display_data"
    }
   ],
   "source": [
    "g3 = sns.lineplot(x= tabla.index, y = tabla[\"Producto Interno Bruto en millones de pesos a precios de 2004\"].astype(float))\n",
    "g3.set(title = \"Evolución del Producto Interno Bruto en millones de pesos a precios de 2004\")\n",
    "g3.set_ylabel(\"Millones de pesos\")\n",
    "g3.set_xlabel(\"Año\");"
   ]
  },
  {
   "cell_type": "code",
   "execution_count": 27,
   "id": "13fdb7e6",
   "metadata": {},
   "outputs": [
    {
     "data": {
      "image/png": "[encoded data removed]",
      "text/plain": [
       "<Figure size 432x288 with 1 Axes>"
      ]
     },
     "metadata": {},
     "output_type": "display_data"
    }
   ],
   "source": [
    "g4 = sns.lineplot(x= tabla.index, y = tabla[\"PBI per cápita a precios constantes en miles de pesos\"].astype(float))\n",
    "g4.set(title = \"Evolución del PBI per cápita a precios constantes en miles de pesos\")\n",
    "g4.set_ylabel(\"Miles de pesos\")\n",
    "g4.set_xlabel(\"Año\");"
   ]
  },
  {
   "cell_type": "markdown",
   "id": "1caa18db",
   "metadata": {},
   "source": [
    "### Tasa de inversión (FBKF) a precios constantes y a precios corrientes"
   ]
  },
  {
   "cell_type": "code",
   "execution_count": 28,
   "id": "3d71b6dc",
   "metadata": {},
   "outputs": [
    {
     "data": {
      "image/png": "[encoded data removed]",
      "text/plain": [
       "<Figure size 432x288 with 1 Axes>"
      ]
     },
     "metadata": {},
     "output_type": "display_data"
    }
   ],
   "source": [
    "g5 = sns.lineplot(x= tabla.index, y = tabla[\"Formación bruta de capital fijo en millones de pesos a precios de 2004\"].astype(float))\n",
    "g5.set(title = \"Evolución de la FBKF en millones de pesos a precios de 2004\")\n",
    "g5.set_ylabel(\"Millones de pesos\")\n",
    "g5.set_xlabel(\"Año\");"
   ]
  },
  {
   "cell_type": "code",
   "execution_count": 29,
   "id": "81dea161",
   "metadata": {},
   "outputs": [
    {
     "data": {
      "image/png": "[encoded data removed]",
      "text/plain": [
       "<Figure size 432x288 with 1 Axes>"
      ]
     },
     "metadata": {},
     "output_type": "display_data"
    }
   ],
   "source": [
    "g6 = sns.lineplot(x= tabla.index, y = tabla[\"Formación bruta de capital fijo en millones de pesos a precios corrientes\"].astype(float))\n",
    "g6.set(title = \"Evolución de la FBKF en millones de pesos a precios corrientes\")\n",
    "g6.set_ylabel(\"Millones de pesos\")\n",
    "g6.set_xlabel(\"Año\");"
   ]
  },
  {
   "cell_type": "markdown",
   "id": "9c9da93c",
   "metadata": {},
   "source": [
    "Para representar la tasa de inversión es más adecuado expresar la Formación Bruta de Capital Fijo a valores constantes. Tomar valores corrientes daría la falsa sensación de que la inversión aumentó, cuando lo hizo solamente su valor nominal. En otras palabras, si bien hoy se gastan más unidades monetarias en capital cada una de esas \"unidades de capital\" aumentó su valor. La forma de compensar por este aumento es utilizando precios constantes en lugar de los corrientes."
   ]
  },
  {
   "cell_type": "markdown",
   "id": "e580cae3",
   "metadata": {},
   "source": [
    "### Reservas Internacionales brutas del Banco Central como porcentaje del PBI"
   ]
  },
  {
   "cell_type": "code",
   "execution_count": 30,
   "id": "fd9306d3",
   "metadata": {},
   "outputs": [
    {
     "data": {
      "image/png": "[encoded data removed]",
      "text/plain": [
       "<Figure size 432x288 with 1 Axes>"
      ]
     },
     "metadata": {},
     "output_type": "display_data"
    }
   ],
   "source": [
    "g7 = sns.lineplot(x= tabla.index, y = tabla[\"Reservas Internacionales como porcentaje del PBI\"].astype(float))\n",
    "g7.set(title = \"Evolución de las Reservas Internacionales como porcentaje del PBI\")\n",
    "g7.set_ylabel(\"%\")\n",
    "g7.set_xlabel(\"Año\");"
   ]
  },
  {
   "cell_type": "markdown",
   "id": "783d884a",
   "metadata": {},
   "source": [
    "### Tasa de crecimiento del PBI anual en pesos constantes"
   ]
  },
  {
   "cell_type": "code",
   "execution_count": 31,
   "id": "0bcbff1e",
   "metadata": {
    "scrolled": false
   },
   "outputs": [
    {
     "data": {
      "image/png": "[encoded data removed]",
      "text/plain": [
       "<Figure size 432x288 with 1 Axes>"
      ]
     },
     "metadata": {},
     "output_type": "display_data"
    }
   ],
   "source": [
    "g8 = sns.lineplot(x= tabla.index, y = tabla[\"Crecimiento PBI %\"].astype(float))\n",
    "g8.set(title = \"Evolución de la tasa porcentual de Crecimiento del PBI en pesos constantes\")\n",
    "g8.set_ylabel(\"%\")\n",
    "g8.set_xlabel(\"Año\");"
   ]
  },
  {
   "cell_type": "markdown",
   "id": "6f277a80",
   "metadata": {},
   "source": [
    "\n",
    "---------------------------------------------------------------------------------------------------"
   ]
  }
 ],
 "metadata": {
  "kernelspec": {
   "display_name": "Python 3",
   "language": "python",
   "name": "python3"
  },
  "language_info": {
   "codemirror_mode": {
    "name": "ipython",
    "version": 3
   },
   "file_extension": ".py",
   "mimetype": "text/x-python",
   "name": "python",
   "nbconvert_exporter": "python",
   "pygments_lexer": "ipython3",
   "version": "3.6.10"
  }
 },
 "nbformat": 4,
 "nbformat_minor": 5
}
